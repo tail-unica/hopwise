{
 "cells": [
  {
   "cell_type": "markdown",
   "metadata": {},
   "source": [
    "# Visualising embeddings with t-SNE\n",
    "\n",
    "\n",
    "> 📚 [t-SNE algorithm](https://opentsne.readthedocs.io/en/stable/tsne_algorithm.html)"
   ]
  },
  {
   "cell_type": "code",
   "execution_count": null,
   "metadata": {},
   "outputs": [],
   "source": [
    "import torch\n",
    "import os\n",
    "from openTSNE import TSNE\n",
    "import numpy as np\n",
    "import pandas as pd\n",
    "import plotly.express as px\n",
    "from hopwise.utils import init_seed"
   ]
  },
  {
   "cell_type": "markdown",
   "metadata": {},
   "source": [
    "### Loading the checkpoint"
   ]
  },
  {
   "cell_type": "code",
   "execution_count": null,
   "metadata": {},
   "outputs": [],
   "source": [
    "checkpoint_name = 'TransE-Jan-23-2025_16-48-43.pth'"
    "checkpoint_name = 'TransE-Jan-23-2025_16-48-43.pth'"
   ]
  },
  {
   "cell_type": "code",
   "execution_count": null,
   "metadata": {},
   "outputs": [],
   "source": [
    "checkpoint = torch.load(os.path.join('saved',checkpoint_name), weights_only=False)\n",
    "config = checkpoint[\"config\"]\n",
    "init_seed(config[\"seed\"], config[\"reproducibility\"])\n",
    "\n",
    "for weight in checkpoint['state_dict'].keys():\n",
    "    checkpoint['state_dict'][weight] = checkpoint['state_dict'][weight].to(torch.device('cpu')).numpy()"
   ]
  },
  {
   "cell_type": "code",
   "execution_count": null,
   "metadata": {},
   "outputs": [],
   "source": [
    "def plot_fn(embeddings, desc='Entity'):\n",
    "    ids= list(range(embeddings.shape[0]))\n",
    "    fig = px.scatter(\n",
    "        x=embeddings[:, 0],\n",
    "        y=embeddings[:, 1],\n",
    "        color=ids,\n",
    "        labels={'x': 'Embedding Dimension 1',\n",
    "                'y': 'Embedding Dimension 2',\n",
    "                'color': f'{desc} ID'},\n",
    "        title=f\"{config['model']} {desc} Embeddings\",\n",
    "        width=1024,\n",
    "        height=1024,\n",
    "        template='plotly_white',\n",
    "    )\n",
    "    \n",
    "    fig.show()"
   ]
  },
  {
   "cell_type": "markdown",
   "metadata": {},
   "source": [
    "## Knowledge-Aware Models"
   ]
  },
  {
   "cell_type": "markdown",
   "metadata": {},
   "source": [
    "> 💡 See https://opentsne.readthedocs.io/en/stable/examples/02_advanced_usage/02_advanced_usage.html for a more detailed configuration"
   ]
  },
  {
   "cell_type": "code",
   "execution_count": null,
   "metadata": {},
   "outputs": [],
   "source": [
    "tsne = TSNE(\n",
    "    perplexity=30,\n",
    "    n_jobs=8,\n",
    "    initialization = \"random\",\n",
    "    metric=\"cosine\",\n",
    "    random_state=config['seed'],\n",
    "    verbose=True,\n",
    ")"
   ]
  },
  {
   "cell_type": "markdown",
   "metadata": {},
   "source": [
    "### Plot Users"
   ]
  },
  {
   "cell_type": "code",
   "execution_count": null,
   "metadata": {},
   "outputs": [],
   "source": [
    "user_weights = checkpoint['state_dict']['user_embedding.weight']\n",
    "tsne_embeddings_users = tsne.fit(user_weights)"
    "tsne_embeddings_users = tsne.fit(user_weights)"
   ]
  },
  {
   "cell_type": "code",
   "execution_count": null,
   "metadata": {},
   "outputs": [],
   "source": [
    "plot_fn(tsne_embeddings_users, 'User')"
    "plot_fn(tsne_embeddings_users, 'User')"
   ]
  },
  {
   "cell_type": "markdown",
   "metadata": {},
   "source": [
    "### Plot entities"
   ]
  },
  {
   "cell_type": "code",
   "execution_count": null,
   "metadata": {},
   "outputs": [],
   "source": [
    "entity_weights = checkpoint['state_dict']['entity_embedding.weight']\n",
    "tsne_embeddings_entities = tsne.fit(entity_weights)"
    "tsne_embeddings_entities = tsne.fit(entity_weights)"
   ]
  },
  {
   "cell_type": "code",
   "execution_count": null,
   "metadata": {},
   "outputs": [],
   "source": [
    "plot_fn(tsne_embeddings_entities, 'Entity')"
    "plot_fn(tsne_embeddings_entities, 'Entity')"
   ]
  },
  {
   "cell_type": "markdown",
   "metadata": {},
   "source": [
    "### Plot relations"
   ]
  },
  {
   "cell_type": "code",
   "execution_count": null,
   "metadata": {},
   "outputs": [],
   "source": [
    "relation_weights = checkpoint['state_dict']['relation_embedding.weight']\n",
    "tsne_embeddings_relations = tsne.fit(relation_weights)"
   ]
  },
  {
   "cell_type": "code",
   "execution_count": null,
   "metadata": {},
   "outputs": [],
   "source": [
    "plot_fn(tsne_embeddings_relations, 'Relation')"
   ]
  },
  {
   "cell_type": "markdown",
   "metadata": {},
   "source": [
    "### Combine embeddings in the same plot"
   ]
  },
  {
   "cell_type": "code",
   "execution_count": null,
   "metadata": {},
   "outputs": [],
   "source": [
    "def combine_embeddings(**kwargs):\n",
    "    embeddings_list = list()\n",
    "    identifiers_list = list()\n",
    "\n",
    "    for embeddings_name, embeddings in kwargs.items():\n",
    "        embeddings_list.append(embeddings)\n",
    "        identifiers_list.extend([f'{embeddings_name} {id}' for id in range(embeddings.shape[0])])\n",
    "        print(f\"[+] {embeddings_name}: {embeddings.shape}\")\n",
    "\n",
    "    embeddings_list = np.concatenate(embeddings_list, axis=0)\n",
    "\n",
    "    combined_df = pd.DataFrame({\n",
    "        'x': embeddings_list[:, 0],\n",
    "        'y': embeddings_list[:, 1],\n",
    "        'type': [id.split(' ')[0] for id in identifiers_list],\n",
    "        'identifier': identifiers_list\n",
    "    })\n",
    "\n",
    "    fig = px.scatter(\n",
    "        combined_df,\n",
    "        x='x',\n",
    "        y='y',\n",
    "        color='type',\n",
    "        hover_data=['identifier'],\n",
    "        labels={\n",
    "            'x': 'Embedding Dimension 1',\n",
    "            'y': 'Embedding Dimension 2',\n",
    "            'type': 'Embedding Type'\n",
    "\n",
    "        },\n",
    "        title=f\"Visualising Combined Embeddings {checkpoint_name}\",\n",
    "        width=1024,\n",
    "        height=1024,\n",
    "        template='plotly_white'\n",
    "    )\n",
    "    fig.show()\n"
   ]
  },
  {
   "cell_type": "code",
   "execution_count": null,
   "metadata": {},
   "outputs": [],
   "source": [
    "combine_embeddings(user=tsne_embeddings_users,\n",
    "                   entity=tsne_embeddings_entities, \n",
    "                   relation=tsne_embeddings_relations)"
   ]
  },
  {
   "cell_type": "code",
   "execution_count": null,
   "metadata": {},
   "outputs": [],
   "source": []
  }
 ],
 "metadata": {
  "kernelspec": {
   "display_name": ".venv",
   "language": "python",
   "name": "python3"
  },
  "language_info": {
   "codemirror_mode": {
    "name": "ipython",
    "version": 3
   },
   "file_extension": ".py",
   "mimetype": "text/x-python",
   "name": "python",
   "nbconvert_exporter": "python",
   "pygments_lexer": "ipython3",
   "version": "3.10.16"
  }
 },
 "nbformat": 4,
 "nbformat_minor": 2
}
